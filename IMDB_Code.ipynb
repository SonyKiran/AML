{
  "nbformat": 4,
  "nbformat_minor": 0,
  "metadata": {
    "colab": {
      "provenance": []
    },
    "kernelspec": {
      "name": "python3",
      "display_name": "Python 3"
    },
    "language_info": {
      "name": "python"
    }
  },
  "cells": [
    {
      "cell_type": "code",
      "source": [
        "from keras.models import Sequential\n",
        "from keras.layers import Dense\n",
        "from keras.datasets import imdb\n",
        "from keras import regularizers\n",
        "import numpy as np\n",
        "\n",
        "\n",
        "# Load the IMDB dataset\n",
        "(train_data, train_labels), (test_data, test_labels) = imdb.load_data(num_words=10000)\n",
        "\n",
        "# Vectorize the data\n",
        "def vectorize_sequences(sequences, dimension=10000):\n",
        "    results = np.zeros((len(sequences), dimension))\n",
        "    for i, sequence in enumerate(sequences):\n",
        "        results[i, sequence] = 1.\n",
        "    return results\n",
        "\n",
        "x_train = vectorize_sequences(train_data)\n",
        "x_test = vectorize_sequences(test_data)\n",
        "y_train = np.asarray(train_labels).astype('float32')\n",
        "y_test = np.asarray(test_labels).astype('float32')\n",
        "\n",
        "# Build the model with L2 regularization\n",
        "model = Sequential()\n",
        "model.add(Dense(32, activation='tanh', input_shape=(10000,), kernel_regularizer=regularizers.l2(0.001)))\n",
        "model.add(Dense(1, activation='tanh'))\n",
        "\n",
        "# Compile the model\n",
        "model.compile(optimizer='RMSprop',\n",
        "              loss='mse',\n",
        "              metrics=['accuracy'])\n",
        "\n",
        "# Train the model\n",
        "history = model.fit(x_train, y_train,\n",
        "                    epochs=15,\n",
        "                    batch_size=512,\n",
        "                    validation_data=(x_test, y_test))\n",
        "\n",
        "# Evaluate the model\n",
        "test_loss, test_acc = model.evaluate(x_test, y_test)\n",
        "print('Test accuracy:', test_acc)\n"
      ],
      "metadata": {
        "colab": {
          "base_uri": "https://localhost:8080/"
        },
        "id": "ipqwNgahEcP8",
        "outputId": "cc0e7ce5-fab1-4f20-dc99-aa4dd34ed12e"
      },
      "execution_count": 18,
      "outputs": [
        {
          "output_type": "stream",
          "name": "stdout",
          "text": [
            "Epoch 1/15\n",
            "49/49 [==============================] - 4s 77ms/step - loss: 0.2635 - accuracy: 0.7262 - val_loss: 0.2632 - val_accuracy: 0.6571\n",
            "Epoch 2/15\n",
            "49/49 [==============================] - 3s 59ms/step - loss: 0.1760 - accuracy: 0.8346 - val_loss: 0.1565 - val_accuracy: 0.8706\n",
            "Epoch 3/15\n",
            "49/49 [==============================] - 3s 54ms/step - loss: 0.1463 - accuracy: 0.8674 - val_loss: 0.1552 - val_accuracy: 0.8224\n",
            "Epoch 4/15\n",
            "49/49 [==============================] - 2s 46ms/step - loss: 0.1298 - accuracy: 0.8834 - val_loss: 0.1384 - val_accuracy: 0.8768\n",
            "Epoch 5/15\n",
            "49/49 [==============================] - 2s 46ms/step - loss: 0.1185 - accuracy: 0.8970 - val_loss: 0.1339 - val_accuracy: 0.8771\n",
            "Epoch 6/15\n",
            "49/49 [==============================] - 2s 47ms/step - loss: 0.1111 - accuracy: 0.9056 - val_loss: 0.1605 - val_accuracy: 0.7864\n",
            "Epoch 7/15\n",
            "49/49 [==============================] - 3s 60ms/step - loss: 0.1081 - accuracy: 0.9076 - val_loss: 0.1257 - val_accuracy: 0.8708\n",
            "Epoch 8/15\n",
            "49/49 [==============================] - 3s 57ms/step - loss: 0.1042 - accuracy: 0.9125 - val_loss: 0.1274 - val_accuracy: 0.8778\n",
            "Epoch 9/15\n",
            "49/49 [==============================] - 2s 47ms/step - loss: 0.1017 - accuracy: 0.9151 - val_loss: 0.1357 - val_accuracy: 0.8387\n",
            "Epoch 10/15\n",
            "49/49 [==============================] - 2s 46ms/step - loss: 0.0990 - accuracy: 0.9172 - val_loss: 0.1219 - val_accuracy: 0.8718\n",
            "Epoch 11/15\n",
            "49/49 [==============================] - 2s 47ms/step - loss: 0.0983 - accuracy: 0.9182 - val_loss: 0.1234 - val_accuracy: 0.8668\n",
            "Epoch 12/15\n",
            "49/49 [==============================] - 3s 60ms/step - loss: 0.0962 - accuracy: 0.9233 - val_loss: 0.1208 - val_accuracy: 0.8815\n",
            "Epoch 13/15\n",
            "49/49 [==============================] - 3s 58ms/step - loss: 0.0953 - accuracy: 0.9203 - val_loss: 0.1180 - val_accuracy: 0.8812\n",
            "Epoch 14/15\n",
            "49/49 [==============================] - 2s 45ms/step - loss: 0.0938 - accuracy: 0.9246 - val_loss: 0.1224 - val_accuracy: 0.8665\n",
            "Epoch 15/15\n",
            "49/49 [==============================] - 2s 46ms/step - loss: 0.0933 - accuracy: 0.9268 - val_loss: 0.1225 - val_accuracy: 0.8783\n",
            "782/782 [==============================] - 2s 2ms/step - loss: 0.1225 - accuracy: 0.8783\n",
            "Test accuracy: 0.8783199787139893\n"
          ]
        }
      ]
    }
  ]
}